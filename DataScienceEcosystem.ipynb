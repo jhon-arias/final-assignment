{
 "cells": [
  {
   "cell_type": "markdown",
   "id": "1de834aa-231b-4c49-ae4c-3fbae42fb0d8",
   "metadata": {},
   "source": [
    "# Exercise 2: Create markdown cell with title of the notebook"
   ]
  },
  {
   "cell_type": "markdown",
   "id": "91c212f7-2bb0-4b55-a8ee-d36a393a47f4",
   "metadata": {},
   "source": [
    "# DataScienceEcosystem"
   ]
  },
  {
   "cell_type": "markdown",
   "id": "dff29cd3-ea0e-423f-b5ff-f51d726ab1ee",
   "metadata": {},
   "source": [
    "# Exercise 3 - Create a markdown cell for an introduction"
   ]
  },
  {
   "cell_type": "markdown",
   "id": "63b28f42-dd24-4b53-9975-cd65f431a2b4",
   "metadata": {},
   "source": [
    "In this notebook, Data Science Tools and Ecosystem are summarized."
   ]
  },
  {
   "cell_type": "markdown",
   "id": "2dd6265b-facb-45be-b076-870996949ee0",
   "metadata": {},
   "source": [
    "# Exercise 10 - Insert a markdown cell to list Objectives"
   ]
  },
  {
   "cell_type": "markdown",
   "id": "f9919c8e-c842-47f1-bcab-dcd542da8791",
   "metadata": {},
   "source": [
    "**Objectives:**\n",
    "\n",
    "* List languages used in data science\n",
    "* List libraries used in data science\n",
    "* Use tables\n",
    "* Using and evaluating arithmetic expressions"
   ]
  },
  {
   "cell_type": "markdown",
   "id": "37cb0db9-c093-401b-8b7c-27ed41515dba",
   "metadata": {},
   "source": [
    "# Exercise 4 - Create a markdown cell to list data science languages\n"
   ]
  },
  {
   "cell_type": "markdown",
   "id": "49c2b224-c036-41b4-8cbe-670d41cd7282",
   "metadata": {},
   "source": [
    "Some of the popular languages that Data Scientists use are:\n",
    "1. Python\n",
    "2. R\n",
    "3. Julia\n",
    "4. Scala"
   ]
  },
  {
   "cell_type": "markdown",
   "id": "479af046-7685-4614-8712-704897cdb120",
   "metadata": {},
   "source": [
    "# Exercise 5 - Create a markdown cell to list data science libraries"
   ]
  },
  {
   "cell_type": "markdown",
   "id": "4cee0998-b7db-467d-b7b0-421c59ececbd",
   "metadata": {},
   "source": [
    "Some of the commonly used libraries used by Data Scientists include:\n",
    "1. Pandas (Python)\n",
    "2. Numpy (Python)\n",
    "3. Seaborn (Python)\n",
    "4. ggplot (R)\n",
    "5. dplyr (R)"
   ]
  },
  {
   "cell_type": "markdown",
   "id": "69d3b7aa-ffb0-43d9-a7db-891cbda5b479",
   "metadata": {},
   "source": [
    "# Exercise 6 - Create a markdown cell with a table of Data Science tools"
   ]
  },
  {
   "cell_type": "markdown",
   "id": "c5186bbe-f529-4bf6-b0fd-525227a82ecd",
   "metadata": {},
   "source": [
    "|Data Science Tools|\n",
    "|------------------|\n",
    "|Jupyter Notebook |\n",
    "|JupiterLab|\n",
    "|Visual Studio Code|\n",
    "|Spyder|\n",
    "|R studio|"
   ]
  },
  {
   "cell_type": "markdown",
   "id": "c78117c5-88f7-4757-aca9-32d71fb9c9e3",
   "metadata": {},
   "source": [
    "# Exercise 7 - Create a markdown cell introducing arithmetic expression examples"
   ]
  },
  {
   "cell_type": "markdown",
   "id": "6b235004-0c5d-454c-b310-7c6d518024b4",
   "metadata": {},
   "source": [
    "### Below are a few examples of evaluating arithmetic expressions in Python"
   ]
  },
  {
   "cell_type": "markdown",
   "id": "ee6e11d7-0d8c-4b69-8a6c-2e63cc98c525",
   "metadata": {},
   "source": [
    "# Exercise 8 - Create a code cell to multiply and add numbers"
   ]
  },
  {
   "cell_type": "markdown",
   "id": "fed9c2d9-7030-4c7b-8a73-e9f09d92877a",
   "metadata": {},
   "source": [
    "This a simple arithmetic expression to mutiply then add integers"
   ]
  },
  {
   "cell_type": "code",
   "execution_count": 1,
   "id": "415c40fb-165a-4b34-9730-8b9a099473cc",
   "metadata": {},
   "outputs": [
    {
     "data": {
      "text/plain": [
       "17"
      ]
     },
     "execution_count": 1,
     "metadata": {},
     "output_type": "execute_result"
    }
   ],
   "source": [
    "(3*4)+5"
   ]
  },
  {
   "cell_type": "markdown",
   "id": "53092b81-6f37-4d6b-a351-578499622ad2",
   "metadata": {},
   "source": [
    "# Exercise 9 - Create a code cell to convert minutes to hours"
   ]
  },
  {
   "cell_type": "markdown",
   "id": "a001b7e2-1889-4db9-8d51-eb4a6e7dd32d",
   "metadata": {},
   "source": [
    "This will convert 200 minutes to hours by diving by 60"
   ]
  },
  {
   "cell_type": "code",
   "execution_count": 3,
   "id": "91b24587-cc24-493f-a2bd-02b1d5af6eab",
   "metadata": {},
   "outputs": [
    {
     "data": {
      "text/plain": [
       "3.3333333333333335"
      ]
     },
     "execution_count": 3,
     "metadata": {},
     "output_type": "execute_result"
    }
   ],
   "source": [
    "200/60"
   ]
  },
  {
   "cell_type": "markdown",
   "id": "1c368df9-63cf-4efb-babf-d1fca82fe405",
   "metadata": {},
   "source": [
    "# Exercise 11 - Create a markdown cell to indicate the Author's name"
   ]
  },
  {
   "cell_type": "markdown",
   "id": "2da05eef-2672-43a2-a709-a9652d098f78",
   "metadata": {},
   "source": [
    "## Author "
   ]
  },
  {
   "cell_type": "markdown",
   "id": "c082c105-76be-4611-b845-8e9a10259720",
   "metadata": {},
   "source": [
    "Jhon Willy Arias Chávez"
   ]
  },
  {
   "cell_type": "code",
   "execution_count": null,
   "id": "1e1a6566-e244-46d3-9ae1-e4c51c969d04",
   "metadata": {},
   "outputs": [],
   "source": []
  }
 ],
 "metadata": {
  "kernelspec": {
   "display_name": "Python 3 (ipykernel)",
   "language": "python",
   "name": "python3"
  },
  "language_info": {
   "codemirror_mode": {
    "name": "ipython",
    "version": 3
   },
   "file_extension": ".py",
   "mimetype": "text/x-python",
   "name": "python",
   "nbconvert_exporter": "python",
   "pygments_lexer": "ipython3",
   "version": "3.11.7"
  }
 },
 "nbformat": 4,
 "nbformat_minor": 5
}
